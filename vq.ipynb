{
 "cells": [
  {
   "cell_type": "code",
   "execution_count": 2,
   "metadata": {},
   "outputs": [],
   "source": [
    "import torch\n",
    "from torch.nn import functional as F"
   ]
  },
  {
   "cell_type": "code",
   "execution_count": 3,
   "metadata": {},
   "outputs": [],
   "source": [
    "def frozen_kmeans(self, cached, fronzen_state, kmeans_iters=5):\n",
    "    frozen_length = torch.count_non_zero(fronzen_state)\n",
    "    unfrozen_length = fronzen_state.shape[0] - frozen_length\n",
    "    unique_vecs = cached.unique(dim=0)\n",
    "\n",
    "    random_idx = torch.randperm(unique_vecs.size(dim=0))[:unfrozen_length]\n",
    "    self.embedding[torch.logical_not(fronzen_state)] = cached[random_idx]\n",
    "\n",
    "    ## Initialisaation complete move on to algorithm\n",
    "\n",
    "    for _ in range(kmeans_iters):\n",
    "        distances = torch.sum(cached**2, dim=1, keepdim=True) + torch.sum(self.embedding, dim=1) - 2.0 * torch.matmul(cached, self.embedding.t())  # calculate the distances from each centroid to the value\n",
    "        dists, indexes = torch.min(distances, dim=1)\n",
    "\n",
    "        counts = torch.bincount(indexes)  # count the number in each bin\n",
    "        counts[fronzen_state] = -1  # make sure to mark as frozen\n",
    "\n",
    "        ### First deal with those with no nearby points ###\n",
    "        #  get the indices of the points furthest away from their centroid\n",
    "        indices = torch.sort(dists).indices[:torch.sum(counts==0)]  # torch.sum(Tensor[bool]) is short hand for count number of trues\n",
    "        self.embedding[counts == 0] = self.cache[indices]\n"
   ]
  },
  {
   "cell_type": "code",
   "execution_count": 9,
   "metadata": {},
   "outputs": [
    {
     "data": {
      "text/plain": [
       "tensor([[ 6.,  8.],\n",
       "        [ 6.,  5.],\n",
       "        [ 8., 10.],\n",
       "        [ 9.,  5.]])"
      ]
     },
     "execution_count": 9,
     "metadata": {},
     "output_type": "execute_result"
    }
   ],
   "source": [
    "\n",
    "indices =  torch.Tensor([1, 0, 1, 2, 3]).to(torch.int64)\n",
    "original = torch.Tensor([[5,4], [6,8], [7,6], [8,10], [9,5]]).to(torch.int64)\n",
    "### Then deal with the means ###\n",
    "oh = F.one_hot(indices).t() \n",
    "amount_of_each = torch.sum(oh, dim=1)\n",
    "\n",
    "torch.matmul(oh, original) / torch.unsqueeze(amount_of_each, 1)"
   ]
  },
  {
   "cell_type": "code",
   "execution_count": null,
   "metadata": {},
   "outputs": [],
   "source": []
  }
 ],
 "metadata": {
  "kernelspec": {
   "display_name": "venv",
   "language": "python",
   "name": "python3"
  },
  "language_info": {
   "codemirror_mode": {
    "name": "ipython",
    "version": 3
   },
   "file_extension": ".py",
   "mimetype": "text/x-python",
   "name": "python",
   "nbconvert_exporter": "python",
   "pygments_lexer": "ipython3",
   "version": "3.10.6"
  },
  "orig_nbformat": 4
 },
 "nbformat": 4,
 "nbformat_minor": 2
}
