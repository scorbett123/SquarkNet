{
 "cells": [
  {
   "cell_type": "code",
   "execution_count": 26,
   "metadata": {},
   "outputs": [
    {
     "data": {
      "text/plain": [
       "'-0b1000000'"
      ]
     },
     "execution_count": 26,
     "metadata": {},
     "output_type": "execute_result"
    }
   ],
   "source": [
    "mask = ~((1 << 6) - 1)\n",
    "bin(mask)"
   ]
  },
  {
   "cell_type": "code",
   "execution_count": 30,
   "metadata": {},
   "outputs": [],
   "source": [
    "test = 0b11000000\n",
    "bin(test)\n",
    "import math"
   ]
  },
  {
   "cell_type": "code",
   "execution_count": 29,
   "metadata": {},
   "outputs": [
    {
     "data": {
      "text/plain": [
       "'0b11000000'"
      ]
     },
     "execution_count": 29,
     "metadata": {},
     "output_type": "execute_result"
    }
   ],
   "source": [
    "bin(mask & test)"
   ]
  },
  {
   "cell_type": "code",
   "execution_count": 7,
   "metadata": {},
   "outputs": [
    {
     "data": {
      "text/plain": [
       "'-0b10000000'"
      ]
     },
     "execution_count": 7,
     "metadata": {},
     "output_type": "execute_result"
    }
   ],
   "source": [
    "bin(mask)"
   ]
  },
  {
   "cell_type": "code",
   "execution_count": 42,
   "metadata": {},
   "outputs": [
    {
     "name": "stdout",
     "output_type": "stream",
     "text": [
      "0b11111111 -0b10000\n",
      "0b11110000\n",
      "0b11000000\n"
     ]
    }
   ],
   "source": [
    "depth = 4\n",
    "\n",
    "front_pointer = 8\n",
    "f_in_byte = front_pointer % 8\n",
    "\n",
    "# can fit\n",
    "fit = 8 - f_in_byte\n",
    "space_after = max(fit - depth, 0)\n",
    "space_before = max(f_in_byte - depth, 0)\n",
    "\n",
    "m1 = (1 << fit) - 1\n",
    "m2 = ~((1 << space_after) - 1)\n",
    "print(bin(m1), bin(m2))\n",
    "mask = m1 & m2\n",
    "\n",
    "test = 0b1100\n",
    "\n",
    "test <<= space_after\n",
    "test >>= space_before\n",
    "\n",
    "print(bin(mask))\n",
    "print(bin(test & mask))"
   ]
  },
  {
   "cell_type": "code",
   "execution_count": null,
   "metadata": {},
   "outputs": [],
   "source": []
  }
 ],
 "metadata": {
  "kernelspec": {
   "display_name": "venv",
   "language": "python",
   "name": "python3"
  },
  "language_info": {
   "codemirror_mode": {
    "name": "ipython",
    "version": 3
   },
   "file_extension": ".py",
   "mimetype": "text/x-python",
   "name": "python",
   "nbconvert_exporter": "python",
   "pygments_lexer": "ipython3",
   "version": "3.10.6"
  },
  "orig_nbformat": 4
 },
 "nbformat": 4,
 "nbformat_minor": 2
}
