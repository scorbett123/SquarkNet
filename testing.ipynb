{
 "cells": [
  {
   "cell_type": "code",
   "execution_count": 1,
   "id": "208b5f5d-5780-45d5-9064-f8d67d09f876",
   "metadata": {},
   "outputs": [],
   "source": [
    "import torch\n",
    "import torch.nn.functional as F\n",
    "import random"
   ]
  },
  {
   "cell_type": "code",
   "execution_count": 2,
   "id": "ed08f42f-1837-48fb-b843-e782fda9ee7c",
   "metadata": {},
   "outputs": [],
   "source": [
    "x = torch.FloatTensor([[[1,2,3], [1,2,3]], [[2,3,4], [3,4,5]]])\n",
    "codebook_size = 2"
   ]
  },
  {
   "cell_type": "code",
   "execution_count": null,
   "id": "a88c5f90-e95f-458e-aa6e-383ffd97a8ed",
   "metadata": {},
   "outputs": [],
   "source": []
  },
  {
   "cell_type": "code",
   "execution_count": 40,
   "id": "f29931e1-a6db-4a55-8f3d-8c805d45a266",
   "metadata": {},
   "outputs": [],
   "source": [
    "vectors = x.flatten(end_dim=1)\n",
    "unique_vectors = vectors.unique(dim=0)\n",
    "\n",
    "random_idx = torch.randperm(vectors.size(dim=0))[:codebook_size]\n",
    "kmeans_centroids = vectors[random_idx]"
   ]
  },
  {
   "cell_type": "code",
   "execution_count": 41,
   "id": "4c330afd-a4de-47d4-9a19-aecb458d7d7d",
   "metadata": {},
   "outputs": [
    {
     "data": {
      "text/plain": [
       "tensor([25., 53., 93.])"
      ]
     },
     "execution_count": 41,
     "metadata": {},
     "output_type": "execute_result"
    }
   ],
   "source": [
    "torch.sum(vectors**2, dim=0) + torch.sum(kmeans_centroids**2, dim=0)"
   ]
  },
  {
   "cell_type": "code",
   "execution_count": 42,
   "id": "9822dcfb-04aa-4160-8ee4-9a0496c3deb8",
   "metadata": {},
   "outputs": [
    {
     "data": {
      "text/plain": [
       "tensor([[14., 26.],\n",
       "        [14., 26.],\n",
       "        [20., 38.],\n",
       "        [26., 50.]])"
      ]
     },
     "execution_count": 42,
     "metadata": {},
     "output_type": "execute_result"
    }
   ],
   "source": [
    "torch.matmul(vectors, kmeans_centroids.t())"
   ]
  },
  {
   "cell_type": "code",
   "execution_count": 43,
   "id": "a7b44786-15b3-41ef-a4fb-ceabb6421b72",
   "metadata": {},
   "outputs": [],
   "source": [
    "distances = torch.sum(vectors**2, dim=1, keepdim=True) + torch.sum(kmeans_centroids**2, dim=1) - 2.0 * torch.matmul(vectors, kmeans_centroids.t())"
   ]
  },
  {
   "cell_type": "code",
   "execution_count": 44,
   "id": "c825dfe1-2247-41b7-9f0d-82f834f5d67d",
   "metadata": {},
   "outputs": [],
   "source": [
    "dists, indexes = torch.min(distances, dim=1)"
   ]
  },
  {
   "cell_type": "code",
   "execution_count": 45,
   "id": "52976166-4cbb-4ffc-81b0-1a14548e3a78",
   "metadata": {},
   "outputs": [
    {
     "data": {
      "text/plain": [
       "torch.Size([4, 3])"
      ]
     },
     "execution_count": 45,
     "metadata": {},
     "output_type": "execute_result"
    }
   ],
   "source": [
    "vectors.shape"
   ]
  },
  {
   "cell_type": "code",
   "execution_count": 46,
   "id": "c0190a23-ced4-4420-ac63-d9dc4964ce0a",
   "metadata": {},
   "outputs": [],
   "source": [
    "for i in range(codebook_size):\n",
    "    cluster_indices = torch.nonzero(indexes == i).squeeze(1)\n",
    "    if cluster_indices.shape[0] > 0:\n",
    "        one_hot_eq = F.one_hot(cluster_indices, num_classes=vectors.shape[0]).float()\n",
    "        cluster_vals = torch.matmul(one_hot_eq, vectors)\n",
    "        average = cluster_vals.sum(dim=0) / cluster_indices.shape[0]\n",
    "        \n",
    "        kmeans_centroids[i] = average\n",
    "    else:\n",
    "        kmeans_centroids[i] = vectors[random.randint(0, len(vectors))]\n",
    "    "
   ]
  },
  {
   "cell_type": "code",
   "execution_count": 39,
   "id": "b95ef8ef-adec-45f9-9714-82a5f437a22f",
   "metadata": {},
   "outputs": [
    {
     "data": {
      "text/plain": [
       "tensor([[1.3333, 2.3333, 3.3333],\n",
       "        [3.0000, 4.0000, 5.0000]])"
      ]
     },
     "execution_count": 39,
     "metadata": {},
     "output_type": "execute_result"
    }
   ],
   "source": [
    "kmeans_centroids"
   ]
  },
  {
   "cell_type": "code",
   "execution_count": null,
   "id": "d7436ed3-9df3-4ea5-b438-022ce6c92bc5",
   "metadata": {},
   "outputs": [],
   "source": []
  }
 ],
 "metadata": {
  "kernelspec": {
   "display_name": "Python 3 (ipykernel)",
   "language": "python",
   "name": "python3"
  },
  "language_info": {
   "codemirror_mode": {
    "name": "ipython",
    "version": 3
   },
   "file_extension": ".py",
   "mimetype": "text/x-python",
   "name": "python",
   "nbconvert_exporter": "python",
   "pygments_lexer": "ipython3",
   "version": "3.10.6"
  }
 },
 "nbformat": 4,
 "nbformat_minor": 5
}
